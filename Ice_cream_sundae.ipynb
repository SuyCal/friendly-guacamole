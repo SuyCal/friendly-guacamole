{
  "nbformat": 4,
  "nbformat_minor": 0,
  "metadata": {
    "colab": {
      "name": "Ice-cream sundae.ipynb",
      "provenance": [],
      "authorship_tag": "ABX9TyNCTvxe4zh5sFBQo83aVA9D",
      "include_colab_link": true
    },
    "kernelspec": {
      "name": "python3",
      "display_name": "Python 3"
    },
    "language_info": {
      "name": "python"
    }
  },
  "cells": [
    {
      "cell_type": "markdown",
      "metadata": {
        "id": "view-in-github",
        "colab_type": "text"
      },
      "source": [
        "<a href=\"https://colab.research.google.com/github/SuyCal/friendly-guacamole/blob/main/Ice_cream_sundae.ipynb\" target=\"_parent\"><img src=\"https://colab.research.google.com/assets/colab-badge.svg\" alt=\"Open In Colab\"/></a>"
      ]
    },
    {
      "cell_type": "code",
      "execution_count": 1,
      "metadata": {
        "colab": {
          "base_uri": "https://localhost:8080/"
        },
        "id": "57cEdz0u-Hg3",
        "outputId": "f7fbdecd-f58b-49db-81fe-8f28d56063d4"
      },
      "outputs": [
        {
          "output_type": "stream",
          "name": "stdout",
          "text": [
            "Congratulations John you have won an ice cream sundae!\n",
            "Would you like a cherry on top? yes\n",
            "One vanilla sundae with a cherry on topfor John coming right up...\n"
          ]
        }
      ],
      "source": [
        "import random\n",
        "\n",
        "customers =  ['Jimmy', 'Kim', 'John', 'Stacey']\n",
        "\n",
        "winner = random.choice(customers)\n",
        "\n",
        "flavor = 'vanilla'\n",
        "\n",
        "print('Congratulations ' + winner +\n",
        " ' you have won an ice cream sundae!')\n",
        "\n",
        "prompt = 'Would you like a cherry on top? '\n",
        "\n",
        "wants_cherry = input(prompt)\n",
        "wants_cherry1 = wants_cherry.lower()\n",
        "order = flavor + ' sundae '\n",
        "\n",
        "if (wants_cherry1 == 'yes'):\n",
        " order = order + 'with a cherry on top'\n",
        "\n",
        "print('One ' + order + 'for ' + winner +\n",
        " ' coming right up...')"
      ]
    }
  ]
}