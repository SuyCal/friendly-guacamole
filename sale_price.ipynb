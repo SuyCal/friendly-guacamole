{
  "nbformat": 4,
  "nbformat_minor": 0,
  "metadata": {
    "colab": {
      "name": "sale_price.ipynb",
      "provenance": [],
      "include_colab_link": true
    },
    "kernelspec": {
      "name": "python3",
      "display_name": "Python 3"
    },
    "language_info": {
      "name": "python"
    }
  },
  "cells": [
    {
      "cell_type": "markdown",
      "metadata": {
        "id": "view-in-github",
        "colab_type": "text"
      },
      "source": [
        "<a href=\"https://colab.research.google.com/github/SuyCal/friendly-repository-/blob/main/sale_price.ipynb\" target=\"_parent\"><img src=\"https://colab.research.google.com/assets/colab-badge.svg\" alt=\"Open In Colab\"/></a>"
      ]
    },
    {
      "cell_type": "markdown",
      "metadata": {
        "id": "cgTeiXOtSPjH"
      },
      "source": [
        "# Sales Price\n",
        "\n",
        "A local department store needs to develop a program that will computer the total price (including goods and services tax) of the item on sale when given an item's original price and discount percentage.\n",
        "\n",
        "## Tasks\n",
        "* Save to Github\n",
        "* Design Algorithm\n",
        "* Write and test the program in Python"
      ]
    },
    {
      "cell_type": "code",
      "metadata": {
        "id": "pPIN2ZcrSqdw",
        "colab": {
          "base_uri": "https://localhost:8080/"
        },
        "outputId": "e9e9c635-f401-4f8d-d8a9-b4bd3217eded"
      },
      "source": [
        "while True:\n",
        "  try:\n",
        "    orgprice = int(input(\"Please enter original price \"))\n",
        "    break\n",
        "  except ValueError:\n",
        "    print(\"Please enter an appropriate product price\")  \n",
        "\n",
        "while True:\n",
        "  try:\n",
        "    discount = int (input(\"Please input discount \"))\n",
        "    break\n",
        "  except ValueError:\n",
        "    print(\"Please enter a Number\") \n",
        "\n",
        "while True:\n",
        "  tax = (input(\"Please input tax rate \"))\n",
        "  if tax.isdigit():\n",
        "    break\n",
        "  else:\n",
        "    print(\"Please input an appropriate Tax rate\")\n",
        "\n",
        "def calculate_price(orgprice, discount, tax):\n",
        "  tax_temp = int(tax)\n",
        "  discount1 = float(discount/100)\n",
        "  tax1 = float(tax_temp/100)\n",
        "  discount_price = orgprice - (orgprice * discount1)\n",
        "  taxamount = tax1 * discount_price\n",
        "  total_price = discount_price + taxamount\n",
        "  print(\"Your amount is: \" + '$' + str(total_price))\n",
        "  \n",
        "calculate_price (orgprice, discount, tax)"
      ],
      "execution_count": 1,
      "outputs": [
        {
          "output_type": "stream",
          "name": "stdout",
          "text": [
            "Please enter original price 40\n",
            "Please input discount 30\n",
            "Please input tax rate 7\n",
            "Your amount is: $29.96\n"
          ]
        }
      ]
    },
    {
      "cell_type": "markdown",
      "source": [
        ""
      ],
      "metadata": {
        "id": "RXSmNtEaH5Fv"
      }
    }
  ]
}