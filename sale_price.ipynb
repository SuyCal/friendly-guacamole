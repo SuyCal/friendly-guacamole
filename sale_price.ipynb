{
  "nbformat": 4,
  "nbformat_minor": 0,
  "metadata": {
    "colab": {
      "name": "sale_price.ipynb",
      "provenance": [],
      "include_colab_link": true
    },
    "kernelspec": {
      "name": "python3",
      "display_name": "Python 3"
    },
    "language_info": {
      "name": "python"
    }
  },
  "cells": [
    {
      "cell_type": "markdown",
      "metadata": {
        "id": "view-in-github",
        "colab_type": "text"
      },
      "source": [
        "<a href=\"https://colab.research.google.com/github/SuyCal/friendly-repository-/blob/main/sale_price.ipynb\" target=\"_parent\"><img src=\"https://colab.research.google.com/assets/colab-badge.svg\" alt=\"Open In Colab\"/></a>"
      ]
    },
    {
      "cell_type": "markdown",
      "metadata": {
        "id": "cgTeiXOtSPjH"
      },
      "source": [
        "# Sales Price\n",
        "\n",
        "A local department store needs to develop a program that will computer the total price (including goods and services tax) of the item on sale when given an item's original price and discount percentage.\n",
        "\n",
        "## Tasks\n",
        "* Save to Github\n",
        "* Design Algorithm\n",
        "* Write and test the program in Python"
      ]
    },
    {
      "cell_type": "code",
      "metadata": {
        "id": "pPIN2ZcrSqdw",
        "colab": {
          "base_uri": "https://localhost:8080/"
        },
        "outputId": "73b39625-9d63-4500-b353-378e565ce51f"
      },
      "source": [
        "orgprice = int(input(\"please enter original price\"))\n",
        "discount = int (input(\"please input discount\"))\n",
        "tax = int(input(\"please enter tax\"))\n",
        "\n",
        "def calculate_price(orgprice, discount, tax):\n",
        "  discount1 = float(discount/100)\n",
        "  tax1 = float(tax/100)\n",
        "  discount_price = orgprice - (orgprice * discount1)\n",
        "  taxamount = tax1 * discount_price\n",
        "  total_price = discount_price + taxamount\n",
        "  print(total_price)\n",
        "  \n",
        "calculate_price (orgprice, discount, tax)"
      ],
      "execution_count": 22,
      "outputs": [
        {
          "output_type": "stream",
          "name": "stdout",
          "text": [
            "please enter original price40\n",
            "please input discount30\n",
            "please enter tax7\n",
            "29.96\n"
          ]
        }
      ]
    },
    {
      "cell_type": "markdown",
      "source": [
        ""
      ],
      "metadata": {
        "id": "RXSmNtEaH5Fv"
      }
    }
  ]
}