{
  "nbformat": 4,
  "nbformat_minor": 0,
  "metadata": {
    "colab": {
      "name": "multiple random selection.ipynb",
      "provenance": [],
      "authorship_tag": "ABX9TyOi16v8T1ANWJ2m3UUqGEZN",
      "include_colab_link": true
    },
    "kernelspec": {
      "name": "python3",
      "display_name": "Python 3"
    },
    "language_info": {
      "name": "python"
    }
  },
  "cells": [
    {
      "cell_type": "markdown",
      "metadata": {
        "id": "view-in-github",
        "colab_type": "text"
      },
      "source": [
        "<a href=\"https://colab.research.google.com/github/SuyCal/friendly-guacamole/blob/main/multiple_random_selection.ipynb\" target=\"_parent\"><img src=\"https://colab.research.google.com/assets/colab-badge.svg\" alt=\"Open In Colab\"/></a>"
      ]
    },
    {
      "cell_type": "code",
      "execution_count": null,
      "metadata": {
        "colab": {
          "base_uri": "https://localhost:8080/"
        },
        "id": "y4lK6jddpTME",
        "outputId": "2ed60b2b-4f97-46fc-a53f-43b7c6acad70"
      },
      "outputs": [
        {
          "output_type": "stream",
          "name": "stdout",
          "text": [
            "['Stacy', 'Kim']\n"
          ]
        }
      ],
      "source": [
        "import random\n",
        "\n",
        "customers =  ['Jimmy', 'Kim', 'John', 'Stacy']\n",
        "winner = random.sample(customers,2)          #selects 2 random elements from set\n",
        "print(winner)"
      ]
    }
  ]
}